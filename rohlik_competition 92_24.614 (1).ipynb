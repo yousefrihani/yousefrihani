{
 "cells": [
  {
   "cell_type": "code",
   "execution_count": 6,
   "metadata": {
    "colab": {
     "base_uri": "https://localhost:8080/"
    },
    "id": "ijYlDhGBBEhS",
    "outputId": "ffdc624b-e27c-4cb2-e44f-03af4e90610a"
   },
   "outputs": [
    {
     "name": "stdout",
     "output_type": "stream",
     "text": [
      "Requirement already satisfied: category_encoders in c:\\users\\dell\\anaconda3\\lib\\site-packages (2.6.4)\n",
      "Requirement already satisfied: numpy>=1.14.0 in c:\\users\\dell\\anaconda3\\lib\\site-packages (from category_encoders) (1.26.4)\n",
      "Requirement already satisfied: scikit-learn>=0.20.0 in c:\\users\\dell\\anaconda3\\lib\\site-packages (from category_encoders) (1.4.2)\n",
      "Requirement already satisfied: scipy>=1.0.0 in c:\\users\\dell\\anaconda3\\lib\\site-packages (from category_encoders) (1.13.1)\n",
      "Requirement already satisfied: statsmodels>=0.9.0 in c:\\users\\dell\\anaconda3\\lib\\site-packages (from category_encoders) (0.14.2)\n",
      "Requirement already satisfied: pandas>=1.0.5 in c:\\users\\dell\\anaconda3\\lib\\site-packages (from category_encoders) (2.2.3)\n",
      "Requirement already satisfied: patsy>=0.5.1 in c:\\users\\dell\\anaconda3\\lib\\site-packages (from category_encoders) (0.5.6)\n",
      "Requirement already satisfied: python-dateutil>=2.8.2 in c:\\users\\dell\\anaconda3\\lib\\site-packages (from pandas>=1.0.5->category_encoders) (2.9.0.post0)\n",
      "Requirement already satisfied: pytz>=2020.1 in c:\\users\\dell\\anaconda3\\lib\\site-packages (from pandas>=1.0.5->category_encoders) (2024.1)\n",
      "Requirement already satisfied: tzdata>=2022.7 in c:\\users\\dell\\anaconda3\\lib\\site-packages (from pandas>=1.0.5->category_encoders) (2023.3)\n",
      "Requirement already satisfied: six in c:\\users\\dell\\anaconda3\\lib\\site-packages (from patsy>=0.5.1->category_encoders) (1.16.0)\n",
      "Requirement already satisfied: joblib>=1.2.0 in c:\\users\\dell\\anaconda3\\lib\\site-packages (from scikit-learn>=0.20.0->category_encoders) (1.4.2)\n",
      "Requirement already satisfied: threadpoolctl>=2.0.0 in c:\\users\\dell\\anaconda3\\lib\\site-packages (from scikit-learn>=0.20.0->category_encoders) (2.2.0)\n",
      "Requirement already satisfied: packaging>=21.3 in c:\\users\\dell\\anaconda3\\lib\\site-packages (from statsmodels>=0.9.0->category_encoders) (23.2)\n",
      "Requirement already satisfied: matplotlib in c:\\users\\dell\\anaconda3\\lib\\site-packages (3.9.2)\n",
      "Collecting openml\n",
      "  Downloading openml-0.15.0-py3-none-any.whl.metadata (9.9 kB)\n",
      "Requirement already satisfied: flaml[automl] in c:\\users\\dell\\anaconda3\\lib\\site-packages (2.3.2)\n",
      "Requirement already satisfied: NumPy>=1.17 in c:\\users\\dell\\anaconda3\\lib\\site-packages (from flaml[automl]) (1.26.4)\n",
      "Requirement already satisfied: lightgbm>=2.3.1 in c:\\users\\dell\\anaconda3\\lib\\site-packages (from flaml[automl]) (4.5.0)\n",
      "Requirement already satisfied: xgboost<3.0.0,>=0.90 in c:\\users\\dell\\anaconda3\\lib\\site-packages (from flaml[automl]) (2.1.3)\n",
      "Requirement already satisfied: scipy>=1.4.1 in c:\\users\\dell\\anaconda3\\lib\\site-packages (from flaml[automl]) (1.13.1)\n",
      "Requirement already satisfied: pandas>=1.1.4 in c:\\users\\dell\\anaconda3\\lib\\site-packages (from flaml[automl]) (2.2.3)\n",
      "Requirement already satisfied: scikit-learn>=1.0.0 in c:\\users\\dell\\anaconda3\\lib\\site-packages (from flaml[automl]) (1.4.2)\n",
      "Requirement already satisfied: contourpy>=1.0.1 in c:\\users\\dell\\anaconda3\\lib\\site-packages (from matplotlib) (1.2.0)\n",
      "Requirement already satisfied: cycler>=0.10 in c:\\users\\dell\\anaconda3\\lib\\site-packages (from matplotlib) (0.11.0)\n",
      "Requirement already satisfied: fonttools>=4.22.0 in c:\\users\\dell\\anaconda3\\lib\\site-packages (from matplotlib) (4.51.0)\n",
      "Requirement already satisfied: kiwisolver>=1.3.1 in c:\\users\\dell\\anaconda3\\lib\\site-packages (from matplotlib) (1.4.4)\n",
      "Requirement already satisfied: packaging>=20.0 in c:\\users\\dell\\anaconda3\\lib\\site-packages (from matplotlib) (23.2)\n",
      "Requirement already satisfied: pillow>=8 in c:\\users\\dell\\anaconda3\\lib\\site-packages (from matplotlib) (10.3.0)\n",
      "Requirement already satisfied: pyparsing>=2.3.1 in c:\\users\\dell\\anaconda3\\lib\\site-packages (from matplotlib) (3.0.9)\n",
      "Requirement already satisfied: python-dateutil>=2.7 in c:\\users\\dell\\anaconda3\\lib\\site-packages (from matplotlib) (2.9.0.post0)\n",
      "Collecting liac-arff>=2.4.0 (from openml)\n",
      "  Downloading liac-arff-2.5.0.tar.gz (13 kB)\n",
      "  Preparing metadata (setup.py): started\n",
      "  Preparing metadata (setup.py): finished with status 'done'\n",
      "Collecting xmltodict (from openml)\n",
      "  Downloading xmltodict-0.14.2-py2.py3-none-any.whl.metadata (8.0 kB)\n",
      "Requirement already satisfied: requests in c:\\users\\dell\\anaconda3\\lib\\site-packages (from openml) (2.32.2)\n",
      "Collecting minio (from openml)\n",
      "  Downloading minio-7.2.13-py3-none-any.whl.metadata (6.5 kB)\n",
      "Requirement already satisfied: pyarrow in c:\\users\\dell\\anaconda3\\lib\\site-packages (from openml) (14.0.2)\n",
      "Requirement already satisfied: tqdm in c:\\users\\dell\\anaconda3\\lib\\site-packages (from openml) (4.66.4)\n",
      "Requirement already satisfied: pytz>=2020.1 in c:\\users\\dell\\anaconda3\\lib\\site-packages (from pandas>=1.1.4->flaml[automl]) (2024.1)\n",
      "Requirement already satisfied: tzdata>=2022.7 in c:\\users\\dell\\anaconda3\\lib\\site-packages (from pandas>=1.1.4->flaml[automl]) (2023.3)\n",
      "Requirement already satisfied: six>=1.5 in c:\\users\\dell\\anaconda3\\lib\\site-packages (from python-dateutil>=2.7->matplotlib) (1.16.0)\n",
      "Requirement already satisfied: joblib>=1.2.0 in c:\\users\\dell\\anaconda3\\lib\\site-packages (from scikit-learn>=1.0.0->flaml[automl]) (1.4.2)\n",
      "Requirement already satisfied: threadpoolctl>=2.0.0 in c:\\users\\dell\\anaconda3\\lib\\site-packages (from scikit-learn>=1.0.0->flaml[automl]) (2.2.0)\n",
      "Requirement already satisfied: certifi in c:\\users\\dell\\anaconda3\\lib\\site-packages (from minio->openml) (2024.8.30)\n",
      "Requirement already satisfied: urllib3 in c:\\users\\dell\\anaconda3\\lib\\site-packages (from minio->openml) (2.2.2)\n",
      "Requirement already satisfied: argon2-cffi in c:\\users\\dell\\anaconda3\\lib\\site-packages (from minio->openml) (21.3.0)\n",
      "Collecting pycryptodome (from minio->openml)\n",
      "  Downloading pycryptodome-3.21.0-cp36-abi3-win_amd64.whl.metadata (3.4 kB)\n",
      "Requirement already satisfied: typing-extensions in c:\\users\\dell\\anaconda3\\lib\\site-packages (from minio->openml) (4.11.0)\n",
      "Requirement already satisfied: charset-normalizer<4,>=2 in c:\\users\\dell\\anaconda3\\lib\\site-packages (from requests->openml) (2.0.4)\n",
      "Requirement already satisfied: idna<4,>=2.5 in c:\\users\\dell\\anaconda3\\lib\\site-packages (from requests->openml) (3.7)\n",
      "Requirement already satisfied: colorama in c:\\users\\dell\\anaconda3\\lib\\site-packages (from tqdm->openml) (0.4.6)\n",
      "Requirement already satisfied: argon2-cffi-bindings in c:\\users\\dell\\anaconda3\\lib\\site-packages (from argon2-cffi->minio->openml) (21.2.0)\n",
      "Requirement already satisfied: cffi>=1.0.1 in c:\\users\\dell\\anaconda3\\lib\\site-packages (from argon2-cffi-bindings->argon2-cffi->minio->openml) (1.16.0)\n",
      "Requirement already satisfied: pycparser in c:\\users\\dell\\anaconda3\\lib\\site-packages (from cffi>=1.0.1->argon2-cffi-bindings->argon2-cffi->minio->openml) (2.21)\n",
      "Downloading openml-0.15.0-py3-none-any.whl (157 kB)\n",
      "   ---------------------------------------- 0.0/158.0 kB ? eta -:--:--\n",
      "   -- ------------------------------------- 10.2/158.0 kB ? eta -:--:--\n",
      "   ---------- ---------------------------- 41.0/158.0 kB 495.5 kB/s eta 0:00:01\n",
      "   ----------------------------- -------- 122.9/158.0 kB 901.1 kB/s eta 0:00:01\n",
      "   ---------------------------------------- 158.0/158.0 kB 1.1 MB/s eta 0:00:00\n",
      "Downloading minio-7.2.13-py3-none-any.whl (94 kB)\n",
      "   ---------------------------------------- 0.0/94.4 kB ? eta -:--:--\n",
      "   ---------------------------------------- 94.4/94.4 kB 5.3 MB/s eta 0:00:00\n",
      "Downloading xmltodict-0.14.2-py2.py3-none-any.whl (10.0 kB)\n",
      "Downloading pycryptodome-3.21.0-cp36-abi3-win_amd64.whl (1.8 MB)\n",
      "   ---------------------------------------- 0.0/1.8 MB ? eta -:--:--\n",
      "   -- ------------------------------------- 0.1/1.8 MB 7.0 MB/s eta 0:00:01\n",
      "   ---- ----------------------------------- 0.2/1.8 MB 2.6 MB/s eta 0:00:01\n",
      "   ----- ---------------------------------- 0.3/1.8 MB 3.1 MB/s eta 0:00:01\n",
      "   ----------- ---------------------------- 0.5/1.8 MB 3.2 MB/s eta 0:00:01\n",
      "   -------------- ------------------------- 0.7/1.8 MB 3.0 MB/s eta 0:00:01\n",
      "   ----------------------- ---------------- 1.1/1.8 MB 4.3 MB/s eta 0:00:01\n",
      "   ---------------------------------------  1.8/1.8 MB 5.7 MB/s eta 0:00:01\n",
      "   ---------------------------------------- 1.8/1.8 MB 5.5 MB/s eta 0:00:00\n",
      "Building wheels for collected packages: liac-arff\n",
      "  Building wheel for liac-arff (setup.py): started\n",
      "  Building wheel for liac-arff (setup.py): finished with status 'done'\n",
      "  Created wheel for liac-arff: filename=liac_arff-2.5.0-py3-none-any.whl size=11728 sha256=9f2e4c75a095fec623ba06b39fd744958948a41325b6bec1cb4cc2e5bd0a9088\n",
      "  Stored in directory: c:\\users\\dell\\appdata\\local\\pip\\cache\\wheels\\a9\\ac\\cf\\c2919807a5c623926d217c0a18eb5b457e5c19d242c3b5963a\n",
      "Successfully built liac-arff\n",
      "Installing collected packages: xmltodict, pycryptodome, liac-arff, minio, openml\n",
      "Successfully installed liac-arff-2.5.0 minio-7.2.13 openml-0.15.0 pycryptodome-3.21.0 xmltodict-0.14.2\n",
      "Requirement already satisfied: dask[dataframe] in c:\\users\\dell\\anaconda3\\lib\\site-packages (2024.5.0)\n",
      "Requirement already satisfied: click>=8.1 in c:\\users\\dell\\anaconda3\\lib\\site-packages (from dask[dataframe]) (8.1.7)\n",
      "Requirement already satisfied: cloudpickle>=1.5.0 in c:\\users\\dell\\anaconda3\\lib\\site-packages (from dask[dataframe]) (2.2.1)\n",
      "Requirement already satisfied: fsspec>=2021.09.0 in c:\\users\\dell\\anaconda3\\lib\\site-packages (from dask[dataframe]) (2024.3.1)\n",
      "Requirement already satisfied: packaging>=20.0 in c:\\users\\dell\\anaconda3\\lib\\site-packages (from dask[dataframe]) (23.2)\n",
      "Requirement already satisfied: partd>=1.2.0 in c:\\users\\dell\\anaconda3\\lib\\site-packages (from dask[dataframe]) (1.4.1)\n",
      "Requirement already satisfied: pyyaml>=5.3.1 in c:\\users\\dell\\anaconda3\\lib\\site-packages (from dask[dataframe]) (6.0.1)\n",
      "Requirement already satisfied: toolz>=0.10.0 in c:\\users\\dell\\anaconda3\\lib\\site-packages (from dask[dataframe]) (0.12.0)\n",
      "Requirement already satisfied: pandas>=1.3 in c:\\users\\dell\\anaconda3\\lib\\site-packages (from dask[dataframe]) (2.2.3)\n",
      "Requirement already satisfied: dask-expr<1.2,>=1.1 in c:\\users\\dell\\anaconda3\\lib\\site-packages (from dask[dataframe]) (1.1.0)\n",
      "Requirement already satisfied: colorama in c:\\users\\dell\\anaconda3\\lib\\site-packages (from click>=8.1->dask[dataframe]) (0.4.6)\n",
      "Requirement already satisfied: pyarrow>=7.0.0 in c:\\users\\dell\\anaconda3\\lib\\site-packages (from dask-expr<1.2,>=1.1->dask[dataframe]) (14.0.2)\n",
      "Requirement already satisfied: numpy>=1.26.0 in c:\\users\\dell\\anaconda3\\lib\\site-packages (from pandas>=1.3->dask[dataframe]) (1.26.4)\n",
      "Requirement already satisfied: python-dateutil>=2.8.2 in c:\\users\\dell\\anaconda3\\lib\\site-packages (from pandas>=1.3->dask[dataframe]) (2.9.0.post0)\n",
      "Requirement already satisfied: pytz>=2020.1 in c:\\users\\dell\\anaconda3\\lib\\site-packages (from pandas>=1.3->dask[dataframe]) (2024.1)\n",
      "Requirement already satisfied: tzdata>=2022.7 in c:\\users\\dell\\anaconda3\\lib\\site-packages (from pandas>=1.3->dask[dataframe]) (2023.3)\n",
      "Requirement already satisfied: locket in c:\\users\\dell\\anaconda3\\lib\\site-packages (from partd>=1.2.0->dask[dataframe]) (1.0.0)\n",
      "Requirement already satisfied: six>=1.5 in c:\\users\\dell\\anaconda3\\lib\\site-packages (from python-dateutil>=2.8.2->pandas>=1.3->dask[dataframe]) (1.16.0)\n",
      "Requirement already satisfied: xgboost in c:\\users\\dell\\anaconda3\\lib\\site-packages (2.1.3)\n",
      "Requirement already satisfied: numpy in c:\\users\\dell\\anaconda3\\lib\\site-packages (from xgboost) (1.26.4)\n",
      "Requirement already satisfied: scipy in c:\\users\\dell\\anaconda3\\lib\\site-packages (from xgboost) (1.13.1)\n",
      "Requirement already satisfied: catboost in c:\\users\\dell\\anaconda3\\lib\\site-packages (1.2.7)\n",
      "Requirement already satisfied: graphviz in c:\\users\\dell\\anaconda3\\lib\\site-packages (from catboost) (0.20.3)\n",
      "Requirement already satisfied: matplotlib in c:\\users\\dell\\anaconda3\\lib\\site-packages (from catboost) (3.9.2)\n",
      "Requirement already satisfied: numpy<2.0,>=1.16.0 in c:\\users\\dell\\anaconda3\\lib\\site-packages (from catboost) (1.26.4)\n",
      "Requirement already satisfied: pandas>=0.24 in c:\\users\\dell\\anaconda3\\lib\\site-packages (from catboost) (2.2.3)\n",
      "Requirement already satisfied: scipy in c:\\users\\dell\\anaconda3\\lib\\site-packages (from catboost) (1.13.1)\n",
      "Requirement already satisfied: plotly in c:\\users\\dell\\anaconda3\\lib\\site-packages (from catboost) (5.22.0)\n",
      "Requirement already satisfied: six in c:\\users\\dell\\anaconda3\\lib\\site-packages (from catboost) (1.16.0)\n",
      "Requirement already satisfied: python-dateutil>=2.8.2 in c:\\users\\dell\\anaconda3\\lib\\site-packages (from pandas>=0.24->catboost) (2.9.0.post0)\n",
      "Requirement already satisfied: pytz>=2020.1 in c:\\users\\dell\\anaconda3\\lib\\site-packages (from pandas>=0.24->catboost) (2024.1)\n",
      "Requirement already satisfied: tzdata>=2022.7 in c:\\users\\dell\\anaconda3\\lib\\site-packages (from pandas>=0.24->catboost) (2023.3)\n",
      "Requirement already satisfied: contourpy>=1.0.1 in c:\\users\\dell\\anaconda3\\lib\\site-packages (from matplotlib->catboost) (1.2.0)\n",
      "Requirement already satisfied: cycler>=0.10 in c:\\users\\dell\\anaconda3\\lib\\site-packages (from matplotlib->catboost) (0.11.0)\n",
      "Requirement already satisfied: fonttools>=4.22.0 in c:\\users\\dell\\anaconda3\\lib\\site-packages (from matplotlib->catboost) (4.51.0)\n",
      "Requirement already satisfied: kiwisolver>=1.3.1 in c:\\users\\dell\\anaconda3\\lib\\site-packages (from matplotlib->catboost) (1.4.4)\n",
      "Requirement already satisfied: packaging>=20.0 in c:\\users\\dell\\anaconda3\\lib\\site-packages (from matplotlib->catboost) (23.2)\n",
      "Requirement already satisfied: pillow>=8 in c:\\users\\dell\\anaconda3\\lib\\site-packages (from matplotlib->catboost) (10.3.0)\n",
      "Requirement already satisfied: pyparsing>=2.3.1 in c:\\users\\dell\\anaconda3\\lib\\site-packages (from matplotlib->catboost) (3.0.9)\n",
      "Requirement already satisfied: tenacity>=6.2.0 in c:\\users\\dell\\anaconda3\\lib\\site-packages (from plotly->catboost) (8.2.2)\n",
      "Requirement already satisfied: lightgbm in c:\\users\\dell\\anaconda3\\lib\\site-packages (4.5.0)\n",
      "Requirement already satisfied: numpy>=1.17.0 in c:\\users\\dell\\anaconda3\\lib\\site-packages (from lightgbm) (1.26.4)\n",
      "Requirement already satisfied: scipy in c:\\users\\dell\\anaconda3\\lib\\site-packages (from lightgbm) (1.13.1)\n"
     ]
    }
   ],
   "source": [
    "!pip install category_encoders\n",
    "!pip install flaml[automl] matplotlib openml\n",
    "!pip install dask[dataframe]\n",
    "\n",
    "\n",
    "\n",
    "!pip install xgboost\n",
    "!pip install catboost\n",
    "!pip install lightgbm\n"
   ]
  },
  {
   "cell_type": "code",
   "execution_count": 3,
   "metadata": {
    "id": "4vOpbtsLBIgG"
   },
   "outputs": [],
   "source": [
    "!mkdir ~/.kaggle\n",
    "!mv kaggle.json ~/.kaggle/\n",
    "!chmod 600 ~/.kaggle/kaggle.json\n"
   ]
  },
  {
   "cell_type": "code",
   "execution_count": 4,
   "metadata": {
    "colab": {
     "base_uri": "https://localhost:8080/"
    },
    "id": "zGJ7HNAkBUd8",
    "outputId": "55c63f52-3511-4d3e-c52f-0173851d5c76"
   },
   "outputs": [
    {
     "name": "stdout",
     "output_type": "stream",
     "text": [
      "Downloading rohlik-sales-forecasting-challenge-v2.zip to /content\n",
      " 70% 33.0M/47.3M [00:00<00:00, 90.7MB/s]\n",
      "100% 47.3M/47.3M [00:00<00:00, 106MB/s] \n"
     ]
    }
   ],
   "source": [
    "!kaggle competitions download -c rohlik-sales-forecasting-challenge-v2"
   ]
  },
  {
   "cell_type": "code",
   "execution_count": 2,
   "metadata": {
    "colab": {
     "base_uri": "https://localhost:8080/"
    },
    "id": "EVLoL8jQBd0V",
    "outputId": "ac907c2b-a50a-41a1-e185-a3bc5874acbe"
   },
   "outputs": [
    {
     "name": "stdout",
     "output_type": "stream",
     "text": [
      "Archive:  rohlik-sales-forecasting-challenge-v2.zip\n",
      "replace /content/calendar.csv? [y]es, [n]o, [A]ll, [N]one, [r]ename: A\n",
      "  inflating: /content/calendar.csv   \n",
      "  inflating: /content/inventory.csv  \n",
      "  inflating: /content/sales_test.csv  \n",
      "  inflating: /content/sales_train.csv  \n",
      "  inflating: /content/solution.csv   \n",
      "  inflating: /content/test_weights.csv  \n"
     ]
    }
   ],
   "source": [
    "!unzip rohlik-sales-forecasting-challenge-v2.zip -d /content"
   ]
  },
  {
   "cell_type": "code",
   "execution_count": 2,
   "metadata": {
    "id": "1byhwzpoGxTd"
   },
   "outputs": [],
   "source": [
    "import pandas as pd\n",
    "\n",
    "\n",
    "#repalce all of these with your own path ^_^\n",
    "\n",
    "training = pd.read_csv('C:sales_train.csv', parse_dates=['date'])\n",
    "test = pd.read_csv('C:sales_test.csv', parse_dates=['date'])\n",
    "submission = pd.read_csv(\"C:solution.csv\")\n",
    "\n",
    "inventory = pd.read_csv('C:inventory.csv')\n",
    "test_weights = pd.read_csv(\"C:test_weights.csv\")\n",
    "calender = pd.read_csv(\"C:calendar.csv\", parse_dates=['date'])\n"
   ]
  },
  {
   "cell_type": "code",
   "execution_count": 3,
   "metadata": {
    "colab": {
     "base_uri": "https://localhost:8080/",
     "height": 69
    },
    "id": "pRLYBlA4HHuW",
    "outputId": "7bb8968e-68c2-4072-e63e-0d62c9c21321"
   },
   "outputs": [
    {
     "data": {
      "text/plain": [
       "(4007419, 14)"
      ]
     },
     "metadata": {},
     "output_type": "display_data"
    },
    {
     "data": {
      "text/plain": [
       "(4007367, 14)"
      ]
     },
     "metadata": {},
     "output_type": "display_data"
    },
    {
     "data": {
      "text/plain": [
       "0"
      ]
     },
     "execution_count": 3,
     "metadata": {},
     "output_type": "execute_result"
    }
   ],
   "source": [
    "training.isna().sum()/training.shape[0] #percentage of missing values\n",
    "\n",
    "display(training.shape)#before dropping nans\n",
    "\n",
    "training.dropna(inplace=True)\n",
    "\n",
    "display(training.shape)#after dropping nans\n",
    "\n",
    "training.duplicated().sum() #checking for duplicates"
   ]
  },
  {
   "cell_type": "code",
   "execution_count": 4,
   "metadata": {
    "colab": {
     "base_uri": "https://localhost:8080/",
     "height": 810
    },
    "id": "desuvNn-GPNC",
    "outputId": "ddb6c868-ee46-432f-987a-6bd07eb9b0a5"
   },
   "outputs": [
    {
     "name": "stdout",
     "output_type": "stream",
     "text": [
      "<class 'pandas.core.frame.DataFrame'>\n",
      "Int64Index: 4007367 entries, 0 to 4007418\n",
      "Data columns (total 14 columns):\n",
      " #   Column           Dtype         \n",
      "---  ------           -----         \n",
      " 0   unique_id        int64         \n",
      " 1   date             datetime64[ns]\n",
      " 2   warehouse        object        \n",
      " 3   total_orders     float64       \n",
      " 4   sales            float64       \n",
      " 5   sell_price_main  float64       \n",
      " 6   availability     float64       \n",
      " 7   type_0_discount  float64       \n",
      " 8   type_1_discount  float64       \n",
      " 9   type_2_discount  float64       \n",
      " 10  type_3_discount  float64       \n",
      " 11  type_4_discount  float64       \n",
      " 12  type_5_discount  float64       \n",
      " 13  type_6_discount  float64       \n",
      "dtypes: datetime64[ns](1), float64(11), int64(1), object(1)\n",
      "memory usage: 458.6+ MB\n"
     ]
    },
    {
     "data": {
      "text/html": [
       "<div>\n",
       "<style scoped>\n",
       "    .dataframe tbody tr th:only-of-type {\n",
       "        vertical-align: middle;\n",
       "    }\n",
       "\n",
       "    .dataframe tbody tr th {\n",
       "        vertical-align: top;\n",
       "    }\n",
       "\n",
       "    .dataframe thead th {\n",
       "        text-align: right;\n",
       "    }\n",
       "</style>\n",
       "<table border=\"1\" class=\"dataframe\">\n",
       "  <thead>\n",
       "    <tr style=\"text-align: right;\">\n",
       "      <th></th>\n",
       "      <th>unique_id</th>\n",
       "      <th>total_orders</th>\n",
       "      <th>sales</th>\n",
       "      <th>sell_price_main</th>\n",
       "      <th>availability</th>\n",
       "      <th>type_0_discount</th>\n",
       "      <th>type_1_discount</th>\n",
       "      <th>type_2_discount</th>\n",
       "      <th>type_3_discount</th>\n",
       "      <th>type_4_discount</th>\n",
       "      <th>type_5_discount</th>\n",
       "      <th>type_6_discount</th>\n",
       "    </tr>\n",
       "  </thead>\n",
       "  <tbody>\n",
       "    <tr>\n",
       "      <th>unique_id</th>\n",
       "      <td>1.000000</td>\n",
       "      <td>-0.003557</td>\n",
       "      <td>0.021333</td>\n",
       "      <td>-0.013103</td>\n",
       "      <td>-0.003725</td>\n",
       "      <td>-0.004146</td>\n",
       "      <td>-0.002557</td>\n",
       "      <td>-0.010543</td>\n",
       "      <td>-0.001311</td>\n",
       "      <td>0.046378</td>\n",
       "      <td>0.010416</td>\n",
       "      <td>0.016041</td>\n",
       "    </tr>\n",
       "    <tr>\n",
       "      <th>total_orders</th>\n",
       "      <td>-0.003557</td>\n",
       "      <td>1.000000</td>\n",
       "      <td>0.100301</td>\n",
       "      <td>-0.014082</td>\n",
       "      <td>-0.006823</td>\n",
       "      <td>0.010693</td>\n",
       "      <td>-0.019337</td>\n",
       "      <td>0.009782</td>\n",
       "      <td>-0.002465</td>\n",
       "      <td>0.046652</td>\n",
       "      <td>-0.017894</td>\n",
       "      <td>-0.002996</td>\n",
       "    </tr>\n",
       "    <tr>\n",
       "      <th>sales</th>\n",
       "      <td>0.021333</td>\n",
       "      <td>0.100301</td>\n",
       "      <td>1.000000</td>\n",
       "      <td>-0.043014</td>\n",
       "      <td>0.012252</td>\n",
       "      <td>0.130468</td>\n",
       "      <td>0.002256</td>\n",
       "      <td>0.063841</td>\n",
       "      <td>0.000298</td>\n",
       "      <td>0.011782</td>\n",
       "      <td>0.004624</td>\n",
       "      <td>-0.037561</td>\n",
       "    </tr>\n",
       "    <tr>\n",
       "      <th>sell_price_main</th>\n",
       "      <td>-0.013103</td>\n",
       "      <td>-0.014082</td>\n",
       "      <td>-0.043014</td>\n",
       "      <td>1.000000</td>\n",
       "      <td>-0.007730</td>\n",
       "      <td>0.033392</td>\n",
       "      <td>-0.003021</td>\n",
       "      <td>-0.005896</td>\n",
       "      <td>0.048547</td>\n",
       "      <td>-0.041983</td>\n",
       "      <td>0.012257</td>\n",
       "      <td>0.021170</td>\n",
       "    </tr>\n",
       "    <tr>\n",
       "      <th>availability</th>\n",
       "      <td>-0.003725</td>\n",
       "      <td>-0.006823</td>\n",
       "      <td>0.012252</td>\n",
       "      <td>-0.007730</td>\n",
       "      <td>1.000000</td>\n",
       "      <td>-0.008022</td>\n",
       "      <td>0.001745</td>\n",
       "      <td>0.000406</td>\n",
       "      <td>-0.000905</td>\n",
       "      <td>-0.043244</td>\n",
       "      <td>-0.003921</td>\n",
       "      <td>-0.007375</td>\n",
       "    </tr>\n",
       "    <tr>\n",
       "      <th>type_0_discount</th>\n",
       "      <td>-0.004146</td>\n",
       "      <td>0.010693</td>\n",
       "      <td>0.130468</td>\n",
       "      <td>0.033392</td>\n",
       "      <td>-0.008022</td>\n",
       "      <td>1.000000</td>\n",
       "      <td>-0.003972</td>\n",
       "      <td>-0.008960</td>\n",
       "      <td>-0.000809</td>\n",
       "      <td>-0.021388</td>\n",
       "      <td>0.010554</td>\n",
       "      <td>-0.006409</td>\n",
       "    </tr>\n",
       "    <tr>\n",
       "      <th>type_1_discount</th>\n",
       "      <td>-0.002557</td>\n",
       "      <td>-0.019337</td>\n",
       "      <td>0.002256</td>\n",
       "      <td>-0.003021</td>\n",
       "      <td>0.001745</td>\n",
       "      <td>-0.003972</td>\n",
       "      <td>1.000000</td>\n",
       "      <td>-0.001493</td>\n",
       "      <td>-0.000147</td>\n",
       "      <td>-0.004738</td>\n",
       "      <td>-0.001062</td>\n",
       "      <td>-0.003157</td>\n",
       "    </tr>\n",
       "    <tr>\n",
       "      <th>type_2_discount</th>\n",
       "      <td>-0.010543</td>\n",
       "      <td>0.009782</td>\n",
       "      <td>0.063841</td>\n",
       "      <td>-0.005896</td>\n",
       "      <td>0.000406</td>\n",
       "      <td>-0.008960</td>\n",
       "      <td>-0.001493</td>\n",
       "      <td>1.000000</td>\n",
       "      <td>-0.000378</td>\n",
       "      <td>-0.011303</td>\n",
       "      <td>-0.001678</td>\n",
       "      <td>-0.010513</td>\n",
       "    </tr>\n",
       "    <tr>\n",
       "      <th>type_3_discount</th>\n",
       "      <td>-0.001311</td>\n",
       "      <td>-0.002465</td>\n",
       "      <td>0.000298</td>\n",
       "      <td>0.048547</td>\n",
       "      <td>-0.000905</td>\n",
       "      <td>-0.000809</td>\n",
       "      <td>-0.000147</td>\n",
       "      <td>-0.000378</td>\n",
       "      <td>1.000000</td>\n",
       "      <td>-0.001200</td>\n",
       "      <td>-0.000269</td>\n",
       "      <td>0.004867</td>\n",
       "    </tr>\n",
       "    <tr>\n",
       "      <th>type_4_discount</th>\n",
       "      <td>0.046378</td>\n",
       "      <td>0.046652</td>\n",
       "      <td>0.011782</td>\n",
       "      <td>-0.041983</td>\n",
       "      <td>-0.043244</td>\n",
       "      <td>-0.021388</td>\n",
       "      <td>-0.004738</td>\n",
       "      <td>-0.011303</td>\n",
       "      <td>-0.001200</td>\n",
       "      <td>1.000000</td>\n",
       "      <td>0.005557</td>\n",
       "      <td>-0.020697</td>\n",
       "    </tr>\n",
       "    <tr>\n",
       "      <th>type_5_discount</th>\n",
       "      <td>0.010416</td>\n",
       "      <td>-0.017894</td>\n",
       "      <td>0.004624</td>\n",
       "      <td>0.012257</td>\n",
       "      <td>-0.003921</td>\n",
       "      <td>0.010554</td>\n",
       "      <td>-0.001062</td>\n",
       "      <td>-0.001678</td>\n",
       "      <td>-0.000269</td>\n",
       "      <td>0.005557</td>\n",
       "      <td>1.000000</td>\n",
       "      <td>-0.004974</td>\n",
       "    </tr>\n",
       "    <tr>\n",
       "      <th>type_6_discount</th>\n",
       "      <td>0.016041</td>\n",
       "      <td>-0.002996</td>\n",
       "      <td>-0.037561</td>\n",
       "      <td>0.021170</td>\n",
       "      <td>-0.007375</td>\n",
       "      <td>-0.006409</td>\n",
       "      <td>-0.003157</td>\n",
       "      <td>-0.010513</td>\n",
       "      <td>0.004867</td>\n",
       "      <td>-0.020697</td>\n",
       "      <td>-0.004974</td>\n",
       "      <td>1.000000</td>\n",
       "    </tr>\n",
       "  </tbody>\n",
       "</table>\n",
       "</div>"
      ],
      "text/plain": [
       "                 unique_id  total_orders     sales  sell_price_main  \\\n",
       "unique_id         1.000000     -0.003557  0.021333        -0.013103   \n",
       "total_orders     -0.003557      1.000000  0.100301        -0.014082   \n",
       "sales             0.021333      0.100301  1.000000        -0.043014   \n",
       "sell_price_main  -0.013103     -0.014082 -0.043014         1.000000   \n",
       "availability     -0.003725     -0.006823  0.012252        -0.007730   \n",
       "type_0_discount  -0.004146      0.010693  0.130468         0.033392   \n",
       "type_1_discount  -0.002557     -0.019337  0.002256        -0.003021   \n",
       "type_2_discount  -0.010543      0.009782  0.063841        -0.005896   \n",
       "type_3_discount  -0.001311     -0.002465  0.000298         0.048547   \n",
       "type_4_discount   0.046378      0.046652  0.011782        -0.041983   \n",
       "type_5_discount   0.010416     -0.017894  0.004624         0.012257   \n",
       "type_6_discount   0.016041     -0.002996 -0.037561         0.021170   \n",
       "\n",
       "                 availability  type_0_discount  type_1_discount  \\\n",
       "unique_id           -0.003725        -0.004146        -0.002557   \n",
       "total_orders        -0.006823         0.010693        -0.019337   \n",
       "sales                0.012252         0.130468         0.002256   \n",
       "sell_price_main     -0.007730         0.033392        -0.003021   \n",
       "availability         1.000000        -0.008022         0.001745   \n",
       "type_0_discount     -0.008022         1.000000        -0.003972   \n",
       "type_1_discount      0.001745        -0.003972         1.000000   \n",
       "type_2_discount      0.000406        -0.008960        -0.001493   \n",
       "type_3_discount     -0.000905        -0.000809        -0.000147   \n",
       "type_4_discount     -0.043244        -0.021388        -0.004738   \n",
       "type_5_discount     -0.003921         0.010554        -0.001062   \n",
       "type_6_discount     -0.007375        -0.006409        -0.003157   \n",
       "\n",
       "                 type_2_discount  type_3_discount  type_4_discount  \\\n",
       "unique_id              -0.010543        -0.001311         0.046378   \n",
       "total_orders            0.009782        -0.002465         0.046652   \n",
       "sales                   0.063841         0.000298         0.011782   \n",
       "sell_price_main        -0.005896         0.048547        -0.041983   \n",
       "availability            0.000406        -0.000905        -0.043244   \n",
       "type_0_discount        -0.008960        -0.000809        -0.021388   \n",
       "type_1_discount        -0.001493        -0.000147        -0.004738   \n",
       "type_2_discount         1.000000        -0.000378        -0.011303   \n",
       "type_3_discount        -0.000378         1.000000        -0.001200   \n",
       "type_4_discount        -0.011303        -0.001200         1.000000   \n",
       "type_5_discount        -0.001678        -0.000269         0.005557   \n",
       "type_6_discount        -0.010513         0.004867        -0.020697   \n",
       "\n",
       "                 type_5_discount  type_6_discount  \n",
       "unique_id               0.010416         0.016041  \n",
       "total_orders           -0.017894        -0.002996  \n",
       "sales                   0.004624        -0.037561  \n",
       "sell_price_main         0.012257         0.021170  \n",
       "availability           -0.003921        -0.007375  \n",
       "type_0_discount         0.010554        -0.006409  \n",
       "type_1_discount        -0.001062        -0.003157  \n",
       "type_2_discount        -0.001678        -0.010513  \n",
       "type_3_discount        -0.000269         0.004867  \n",
       "type_4_discount         0.005557        -0.020697  \n",
       "type_5_discount         1.000000        -0.004974  \n",
       "type_6_discount        -0.004974         1.000000  "
      ]
     },
     "execution_count": 4,
     "metadata": {},
     "output_type": "execute_result"
    }
   ],
   "source": [
    "training.nunique() #checking unique values for the columns\n",
    "\n",
    "training.info() #checking data types of columns\n",
    "\n",
    "correlation_train=training.drop([\"date\",\"warehouse\"],axis=1) #checking correlation of numerical columns\n",
    "\n",
    "\n",
    "corr_plot_mat=correlation_train.corr()\n",
    "\n",
    "corr_plot_mat\n",
    "\n",
    "\n"
   ]
  },
  {
   "cell_type": "code",
   "execution_count": 5,
   "metadata": {
    "colab": {
     "base_uri": "https://localhost:8080/",
     "height": 534
    },
    "id": "x9ELuCKOIj7X",
    "outputId": "73e5f49f-e91c-48ef-9d42-64dfaf47fa67"
   },
   "outputs": [
    {
     "data": {
      "image/png": "[encoded data removed]",
      "text/plain": [
       "<Figure size 432x288 with 2 Axes>"
      ]
     },
     "metadata": {
      "needs_background": "light"
     },
     "output_type": "display_data"
    }
   ],
   "source": [
    "import seaborn as sns\n",
    "import matplotlib.pyplot as plt\n",
    "\n",
    "sns.heatmap(corr_plot_mat,annot=True,cmap=\"RdYlGn\",annot_kws={\"rotation\":45,\"size\":8})#??? no correlation could be because of nonlinearity or non-normal distribution\n",
    "\n",
    "plt.show()"
   ]
  },
  {
   "cell_type": "code",
   "execution_count": 7,
   "metadata": {
    "colab": {
     "base_uri": "https://localhost:8080/",
     "height": 34
    },
    "id": "V6xCaGbsL3nQ",
    "outputId": "6d625e24-623c-4c76-bc8a-72360fd88aaf"
   },
   "outputs": [
    {
     "data": {
      "text/plain": [
       "['sales', 'availability']"
      ]
     },
     "metadata": {},
     "output_type": "display_data"
    }
   ],
   "source": [
    "training.shape[1]-test.shape[1]# 2 missing columns\n",
    "\n",
    "\n",
    "#making a list of mising columns\n",
    "test_missing=[]\n",
    "\n",
    "for i in training.columns.tolist():\n",
    "  if i not in test.columns.tolist():\n",
    "    test_missing.append(i)\n",
    "\n",
    "\n",
    "\n",
    "display(test_missing)#missing target value sales (expected) availability column must be either dropped or made"
   ]
  },
  {
   "cell_type": "markdown",
   "metadata": {
    "id": "bOSKd23eRf-x"
   },
   "source": []
  },
  {
   "cell_type": "code",
   "execution_count": 8,
   "metadata": {
    "id": "eC4Xv914Tm43"
   },
   "outputs": [],
   "source": [
    "Frankfurt_1 = calender[(calender[\"date\"] >= \"2020-08-01 00:00:00\") & (calender[\"warehouse\"] ==\"Frankfurt_1\")]\n",
    "Prague_2 = calender[(calender[\"date\"] >= \"2020-08-01 00:00:00\") & (calender[\"warehouse\"] ==\"Prague_2\")]\n",
    "Brno_1 = calender[(calender[\"date\"] >= \"2020-08-01 00:00:00\") & (calender[\"warehouse\"] ==\"Brno_1\")]\n",
    "Munich_1 = calender[(calender[\"date\"] >= \"2020-08-01 00:00:00\") & (calender[\"warehouse\"] ==\"Munich_1\")]\n",
    "Prague_3 = calender[(calender[\"date\"] >= \"2020-08-01 00:00:00\") & (calender[\"warehouse\"] ==\"Prague_3\")]\n",
    "Prague_1 = calender[(calender[\"date\"] >= \"2020-08-01 00:00:00\") & (calender[\"warehouse\"] ==\"Prague_1\")]\n",
    "Budapest_1 = calender[(calender[\"date\"] >= \"2020-08-01 00:00:00\") & (calender[\"warehouse\"] ==\"Budapest_1\")]\n",
    "\n",
    "def process_calender(df):\n",
    "\n",
    "    df = df.sort_values('date').reset_index(drop=True)\n",
    "\n",
    "    # 1. days till next holiday\n",
    "    df['next_holiday'] = df.loc[df['holiday'] == 1, 'date'].shift(-1)\n",
    "    df['next_holiday'] = df['next_holiday'].bfill()\n",
    "    df['days_to_holiday'] = (df['next_holiday'] - df['date']).dt.days\n",
    "    df.drop(columns=['next_holiday'], inplace=True)\n",
    "\n",
    "    # 2. days till the shops close\n",
    "    df['shops_closed_date'] = df.loc[df['shops_closed'] == 1, 'date'].shift(-1)\n",
    "    df['shops_closed_date'] = df['shops_closed_date'].bfill()\n",
    "    df['days_till_shops_closed'] = (df['shops_closed_date'] - df['date']).dt.days\n",
    "    df.drop(columns=['shops_closed_date'], inplace=True)\n",
    "\n",
    "    # 3. day_after_closing\n",
    "    df['day_after_closing'] = (\n",
    "        (df['shops_closed'] == 0) & (df['shops_closed'].shift(1) == 1)\n",
    "    ).astype(int)\n",
    "\n",
    "    # 4. long_weekend\n",
    "    df['long_weekend'] = (\n",
    "        (df['shops_closed'] == 1) & (df['shops_closed'].shift(1) == 1)\n",
    "    ).astype(int)\n",
    "\n",
    "    # 5. weekday\n",
    "    df['weekday'] = df['date'].dt.weekday  # 0 (monday) - 6 (sunday)\n",
    "\n",
    "    # 6. days since last holiday\n",
    "    df['last_holiday_date'] = df.loc[df['holiday'] == 1, 'date'].shift(1)\n",
    "    df['last_holiday_date'] = df['last_holiday_date'].ffill()\n",
    "    df['days_since_holiday'] = (df['date'] - df['last_holiday_date']).dt.days\n",
    "    df[\"days_since_holiday\"] = df[\"days_since_holiday\"].bfill()\n",
    "    df.drop(columns=['last_holiday_date'], inplace=True)\n",
    "\n",
    "    # 7. holiday season\n",
    "    df['holiday_season'] = df['date'].apply(lambda x: 1 if (x.month == 12 and x.day >= 20) or (x.month == 1 and x.day <= 5) else 0)\n",
    "\n",
    "    # 8. week of month\n",
    "    df['week_of_month'] = df['date'].apply(lambda x: (x.day - 1) // 7 + 1)\n",
    "\n",
    "    # 9. quarter\n",
    "    df['quarter'] = df['date'].dt.quarter\n",
    "\n",
    "    # 10. is weekend\n",
    "    df['is_weekend'] = df['date'].dt.weekday.isin([5, 6]).astype(int)\n",
    "\n",
    "    return df\n",
    "\n",
    "\n",
    "dfs = ['Frankfurt_1', 'Prague_2', 'Brno_1', 'Munich_1', 'Prague_3', 'Prague_1', 'Budapest_1']\n",
    "\n",
    "processed_dfs = [process_calender(globals()[df]) for df in dfs]\n",
    "\n",
    "calender_extended = pd.concat(processed_dfs).sort_values('date').reset_index(drop=True)\n"
   ]
  },
  {
   "cell_type": "code",
   "execution_count": 9,
   "metadata": {
    "id": "z7tgNa0KWte3"
   },
   "outputs": [],
   "source": [
    "train_calender = training.merge(calender_extended, on=['date', 'warehouse'], how='left')\n",
    "train_inventory = train_calender.merge(inventory, on=['unique_id', 'warehouse'], how='left')\n",
    "train_data = train_inventory.merge(test_weights, on=['unique_id'], how='left')\n",
    "\n",
    "test_calendar = test.merge(calender_extended, on=['date', 'warehouse'], how='left')\n",
    "test_data = test_calendar.merge(inventory, on=['unique_id', 'warehouse'], how='left')"
   ]
  },
  {
   "cell_type": "code",
   "execution_count": 10,
   "metadata": {
    "colab": {
     "base_uri": "https://localhost:8080/"
    },
    "id": "gulZ55-Xon_2",
    "outputId": "905b9953-edad-4def-dbca-0eea757fae78"
   },
   "outputs": [
    {
     "data": {
      "text/plain": [
       "(4007367, 36)"
      ]
     },
     "execution_count": 10,
     "metadata": {},
     "output_type": "execute_result"
    }
   ],
   "source": [
    "train_data.shape"
   ]
  },
  {
   "cell_type": "code",
   "execution_count": 13,
   "metadata": {},
   "outputs": [
    {
     "name": "stdout",
     "output_type": "stream",
     "text": [
      "Requirement already satisfied: lightgbm in c:\\users\\user\\anaconda3\\lib\\site-packages (4.5.0)\n",
      "Requirement already satisfied: numpy>=1.17.0 in c:\\users\\user\\anaconda3\\lib\\site-packages (from lightgbm) (1.21.5)\n",
      "Requirement already satisfied: scipy in c:\\users\\user\\anaconda3\\lib\\site-packages (from lightgbm) (1.7.3)\n",
      "LightGBM version: 4.5.0\n"
     ]
    }
   ],
   "source": [
    "# Ensure LightGBM is updated to the latest version\n",
    "!pip install --upgrade lightgbm\n",
    "\n",
    "# Check LightGBM version\n",
    "import lightgbm\n",
    "print(\"LightGBM version:\", lightgbm.__version__)\n"
   ]
  },
  {
   "cell_type": "code",
   "execution_count": 14,
   "metadata": {
    "colab": {
     "base_uri": "https://localhost:8080/",
     "height": 35
    },
    "id": "rT8QVTN4SaMt",
    "outputId": "fa3bdafc-1057-463d-bcba-378a4d399081"
   },
   "outputs": [
    {
     "ename": "TypeError",
     "evalue": "train() got an unexpected keyword argument 'early_stopping_rounds'",
     "output_type": "error",
     "traceback": [
      "\u001b[1;31m---------------------------------------------------------------------------\u001b[0m",
      "\u001b[1;31mTypeError\u001b[0m                                 Traceback (most recent call last)",
      "Input \u001b[1;32mIn [14]\u001b[0m, in \u001b[0;36m<cell line: 40>\u001b[1;34m()\u001b[0m\n\u001b[0;32m     34\u001b[0m X_train_split, X_val, y_train_split, y_val \u001b[38;5;241m=\u001b[39m train_test_split(\n\u001b[0;32m     35\u001b[0m     X_train_encoded, y_train, test_size\u001b[38;5;241m=\u001b[39m\u001b[38;5;241m0.2\u001b[39m, random_state\u001b[38;5;241m=\u001b[39m\u001b[38;5;241m42\u001b[39m\n\u001b[0;32m     36\u001b[0m )\n\u001b[0;32m     38\u001b[0m \u001b[38;5;66;03m# LightGBM parameters\u001b[39;00m\n\u001b[0;32m     39\u001b[0m \u001b[38;5;66;03m# Training the LightGBM model\u001b[39;00m\n\u001b[1;32m---> 40\u001b[0m lgbm_model \u001b[38;5;241m=\u001b[39m \u001b[43mlgb\u001b[49m\u001b[38;5;241;43m.\u001b[39;49m\u001b[43mtrain\u001b[49m\u001b[43m(\u001b[49m\n\u001b[0;32m     41\u001b[0m \u001b[43m    \u001b[49m\u001b[43mparams\u001b[49m\u001b[38;5;241;43m=\u001b[39;49m\u001b[43mlgbm_params\u001b[49m\u001b[43m,\u001b[49m\n\u001b[0;32m     42\u001b[0m \u001b[43m    \u001b[49m\u001b[43mtrain_set\u001b[49m\u001b[38;5;241;43m=\u001b[39;49m\u001b[43mtrain_data_lgb\u001b[49m\u001b[43m,\u001b[49m\n\u001b[0;32m     43\u001b[0m \u001b[43m    \u001b[49m\u001b[43mnum_boost_round\u001b[49m\u001b[38;5;241;43m=\u001b[39;49m\u001b[38;5;241;43m1000\u001b[39;49m\u001b[43m,\u001b[49m\n\u001b[0;32m     44\u001b[0m \u001b[43m    \u001b[49m\u001b[43mvalid_sets\u001b[49m\u001b[38;5;241;43m=\u001b[39;49m\u001b[43m[\u001b[49m\u001b[43mtrain_data_lgb\u001b[49m\u001b[43m,\u001b[49m\u001b[43m \u001b[49m\u001b[43mval_data_lgb\u001b[49m\u001b[43m]\u001b[49m\u001b[43m,\u001b[49m\n\u001b[0;32m     45\u001b[0m \u001b[43m    \u001b[49m\u001b[43mvalid_names\u001b[49m\u001b[38;5;241;43m=\u001b[39;49m\u001b[43m[\u001b[49m\u001b[38;5;124;43m\"\u001b[39;49m\u001b[38;5;124;43mtraining\u001b[39;49m\u001b[38;5;124;43m\"\u001b[39;49m\u001b[43m,\u001b[49m\u001b[43m \u001b[49m\u001b[38;5;124;43m\"\u001b[39;49m\u001b[38;5;124;43mvalidation\u001b[39;49m\u001b[38;5;124;43m\"\u001b[39;49m\u001b[43m]\u001b[49m\u001b[43m,\u001b[49m\u001b[43m  \u001b[49m\u001b[38;5;66;43;03m# Optional: Naming datasets\u001b[39;49;00m\n\u001b[0;32m     46\u001b[0m \u001b[43m    \u001b[49m\u001b[43mearly_stopping_rounds\u001b[49m\u001b[38;5;241;43m=\u001b[39;49m\u001b[38;5;241;43m50\u001b[39;49m\u001b[43m,\u001b[49m\u001b[43m  \u001b[49m\u001b[38;5;66;43;03m# Enable early stopping\u001b[39;49;00m\n\u001b[0;32m     47\u001b[0m \u001b[43m    \u001b[49m\u001b[43mverbose_eval\u001b[49m\u001b[38;5;241;43m=\u001b[39;49m\u001b[38;5;241;43m50\u001b[39;49m\u001b[43m  \u001b[49m\u001b[38;5;66;43;03m# Show logs every 50 iterations\u001b[39;49;00m\n\u001b[0;32m     48\u001b[0m \u001b[43m)\u001b[49m\n\u001b[0;32m     51\u001b[0m \u001b[38;5;66;03m# Creating LightGBM datasets\u001b[39;00m\n\u001b[0;32m     52\u001b[0m train_data_lgb \u001b[38;5;241m=\u001b[39m lgb\u001b[38;5;241m.\u001b[39mDataset(X_train_split, label\u001b[38;5;241m=\u001b[39my_train_split)\n",
      "\u001b[1;31mTypeError\u001b[0m: train() got an unexpected keyword argument 'early_stopping_rounds'"
     ]
    }
   ],
   "source": [
    "import lightgbm as lgb\n",
    "from sklearn.model_selection import train_test_split\n",
    "from sklearn.metrics import mean_squared_error\n",
    "from category_encoders import CatBoostEncoder\n",
    "\n",
    "# Preparing the train and test datasets\n",
    "train_calender = training.merge(calender_extended, on=['date', 'warehouse'], how='left')\n",
    "train_inventory = train_calender.merge(inventory, on=['unique_id', 'warehouse'], how='left')\n",
    "train_data = train_inventory.merge(test_weights, on=['unique_id'], how='left')\n",
    "\n",
    "test_calendar = test.merge(calender_extended, on=['date', 'warehouse'], how='left')\n",
    "test_data = test_calendar.merge(inventory, on=['unique_id', 'warehouse'], how='left')\n",
    "\n",
    "# Extracting features and target from train_data\n",
    "weights = train_data[\"weight\"]\n",
    "\n",
    "final_train = train_data.drop([\"unique_id\", \"availability\", \"holiday_name\", \"weight\"], axis=1)\n",
    "X_train = final_train.drop(\"sales\", axis=1)\n",
    "y_train = final_train[\"sales\"]\n",
    "\n",
    "final_test = test_data.drop([\"unique_id\", \"holiday_name\"], axis=1)  # Keeping the date column in both datasets\n",
    "\n",
    "# Handling categorical features\n",
    "train_categorical = [col for col in final_train.columns if final_train[col].dtype == \"object\"]\n",
    "\n",
    "# Encoding categorical data using CatBoostEncoder\n",
    "train_encoder = CatBoostEncoder(cols=train_categorical, handle_unknown=\"value\", sigma=2, a=0.5)\n",
    "train_encoder.fit(X_train, y_train)\n",
    "\n",
    "X_train_encoded = train_encoder.transform(X_train)\n",
    "X_test_encoded = train_encoder.transform(final_test)\n",
    "\n",
    "# Splitting the training data into train and validation sets\n",
    "X_train_split, X_val, y_train_split, y_val = train_test_split(\n",
    "    X_train_encoded, y_train, test_size=0.2, random_state=42\n",
    ")\n",
    "\n",
    "'''\n",
    "# LightGBM parameters\n",
    "# Training the LightGBM model\n",
    "lgbm_model = lgb.train(\n",
    "    params=lgbm_params,\n",
    "    train_set=train_data_lgb,\n",
    "    num_boost_round=1000,\n",
    "    valid_sets=[train_data_lgb, val_data_lgb],\n",
    "    valid_names=[\"training\", \"validation\"],  # Optional: Naming datasets\n",
    "    early_stopping_rounds=50,  # Enable early stopping\n",
    "    verbose_eval=50  # Show logs every 50 iterations\n",
    ")\n",
    "'''\n",
    "\n",
    "# Creating LightGBM datasets\n",
    "train_data_lgb = lgb.Dataset(X_train_split, label=y_train_split)\n",
    "val_data_lgb = lgb.Dataset(X_val, label=y_val, reference=train_data_lgb)\n",
    "\n",
    "# Training the LightGBM model\n",
    "lgbm_model = lgb.train(\n",
    "    lgbm_params,\n",
    "    train_data_lgb,\n",
    "    num_boost_round=1000,\n",
    "    valid_sets=[train_data_lgb, val_data_lgb],\n",
    "    early_stopping_rounds=50,\n",
    "    verbose_eval=50\n",
    ")\n",
    "\n",
    "# Predicting on the validation set\n",
    "y_pred = lgbm_model.predict(X_val, num_iteration=lgbm_model.best_iteration)\n",
    "\n",
    "# Calculating RMSE for validation\n",
    "rmse = mean_squared_error(y_val, y_pred, squared=False)\n",
    "print(f\"Validation RMSE: {rmse}\")\n",
    "\n",
    "# Predicting on the test dataset\n",
    "test_predictions = lgbm_model.predict(X_test_encoded, num_iteration=lgbm_model.best_iteration)\n",
    "\n",
    "# Displaying predictions\n",
    "test_predictions\n"
   ]
  },
  {
   "cell_type": "code",
   "execution_count": 15,
   "metadata": {
    "colab": {
     "base_uri": "https://localhost:8080/"
    },
    "id": "Uk6lmY3AY-aI",
    "outputId": "ebe4a49f-cbc2-42d6-df64-0402e720fc29"
   },
   "outputs": [
    {
     "name": "stdout",
     "output_type": "stream",
     "text": [
      "[flaml.automl.logger: 12-21 09:54:33] {1728} INFO - task = regression\n",
      "[flaml.automl.logger: 12-21 09:54:33] {1739} INFO - Evaluation method: cv\n",
      "[flaml.automl.logger: 12-21 09:54:38] {1838} INFO - Minimizing error metric: mae\n",
      "[flaml.automl.logger: 12-21 09:54:38] {1955} INFO - List of ML learners in AutoML Run: ['lgbm']\n",
      "[flaml.automl.logger: 12-21 09:54:38] {2258} INFO - iteration 0, current learner lgbm\n",
      "[flaml.automl.logger: 12-21 09:55:23] {2393} INFO - Estimated sufficient time budget=447134s. Estimated necessary time budget=447s.\n",
      "[flaml.automl.logger: 12-21 09:55:23] {2442} INFO -  at 117.1s,\testimator lgbm's best error=56.8991,\tbest estimator lgbm's best error=56.8991\n",
      "[flaml.automl.logger: 12-21 09:55:23] {2258} INFO - iteration 1, current learner lgbm\n",
      "[flaml.automl.logger: 12-21 09:56:07] {2442} INFO -  at 161.5s,\testimator lgbm's best error=56.8991,\tbest estimator lgbm's best error=56.8991\n",
      "[flaml.automl.logger: 12-21 09:56:07] {2258} INFO - iteration 2, current learner lgbm\n",
      "[flaml.automl.logger: 12-21 09:56:52] {2442} INFO -  at 205.9s,\testimator lgbm's best error=44.5246,\tbest estimator lgbm's best error=44.5246\n",
      "[flaml.automl.logger: 12-21 09:56:52] {2258} INFO - iteration 3, current learner lgbm\n",
      "[flaml.automl.logger: 12-21 09:57:41] {2442} INFO -  at 255.6s,\testimator lgbm's best error=31.8704,\tbest estimator lgbm's best error=31.8704\n",
      "[flaml.automl.logger: 12-21 09:57:41] {2258} INFO - iteration 4, current learner lgbm\n",
      "[flaml.automl.logger: 12-21 09:58:28] {2442} INFO -  at 301.8s,\testimator lgbm's best error=31.8704,\tbest estimator lgbm's best error=31.8704\n",
      "[flaml.automl.logger: 12-21 09:58:28] {2258} INFO - iteration 5, current learner lgbm\n",
      "[flaml.automl.logger: 12-21 09:59:17] {2442} INFO -  at 351.0s,\testimator lgbm's best error=31.1652,\tbest estimator lgbm's best error=31.1652\n",
      "[flaml.automl.logger: 12-21 09:59:17] {2258} INFO - iteration 6, current learner lgbm\n",
      "[flaml.automl.logger: 12-21 10:00:10] {2442} INFO -  at 404.5s,\testimator lgbm's best error=31.1652,\tbest estimator lgbm's best error=31.1652\n",
      "[flaml.automl.logger: 12-21 10:00:10] {2258} INFO - iteration 7, current learner lgbm\n",
      "[flaml.automl.logger: 12-21 10:01:02] {2442} INFO -  at 455.8s,\testimator lgbm's best error=31.1652,\tbest estimator lgbm's best error=31.1652\n",
      "[flaml.automl.logger: 12-21 10:01:02] {2258} INFO - iteration 8, current learner lgbm\n",
      "[flaml.automl.logger: 12-21 10:02:13] {2442} INFO -  at 527.2s,\testimator lgbm's best error=28.7381,\tbest estimator lgbm's best error=28.7381\n",
      "[flaml.automl.logger: 12-21 10:02:13] {2258} INFO - iteration 9, current learner lgbm\n",
      "[flaml.automl.logger: 12-21 10:03:05] {2442} INFO -  at 579.0s,\testimator lgbm's best error=28.7381,\tbest estimator lgbm's best error=28.7381\n",
      "[flaml.automl.logger: 12-21 10:03:05] {2258} INFO - iteration 10, current learner lgbm\n",
      "[flaml.automl.logger: 12-21 10:06:21] {2442} INFO -  at 775.5s,\testimator lgbm's best error=24.0627,\tbest estimator lgbm's best error=24.0627\n",
      "[flaml.automl.logger: 12-21 10:06:21] {2258} INFO - iteration 11, current learner lgbm\n",
      "[flaml.automl.logger: 12-21 10:11:05] {2442} INFO -  at 1059.1s,\testimator lgbm's best error=21.4876,\tbest estimator lgbm's best error=21.4876\n",
      "[flaml.automl.logger: 12-21 10:11:05] {2258} INFO - iteration 12, current learner lgbm\n",
      "[flaml.automl.logger: 12-21 10:14:17] {2442} INFO -  at 1251.3s,\testimator lgbm's best error=21.4876,\tbest estimator lgbm's best error=21.4876\n",
      "[flaml.automl.logger: 12-21 10:14:17] {2258} INFO - iteration 13, current learner lgbm\n",
      "[flaml.automl.logger: 12-21 10:19:04] {2442} INFO -  at 1538.0s,\testimator lgbm's best error=21.4876,\tbest estimator lgbm's best error=21.4876\n",
      "[flaml.automl.logger: 12-21 10:19:04] {2258} INFO - iteration 14, current learner lgbm\n",
      "[flaml.automl.logger: 12-21 10:22:41] {2442} INFO -  at 1754.9s,\testimator lgbm's best error=19.7260,\tbest estimator lgbm's best error=19.7260\n",
      "[flaml.automl.logger: 12-21 10:22:41] {2258} INFO - iteration 15, current learner lgbm\n",
      "[flaml.automl.logger: 12-21 10:26:38] {2442} INFO -  at 1992.2s,\testimator lgbm's best error=19.7260,\tbest estimator lgbm's best error=19.7260\n",
      "[flaml.automl.logger: 12-21 10:26:38] {2258} INFO - iteration 16, current learner lgbm\n",
      "[flaml.automl.logger: 12-21 10:30:45] {2442} INFO -  at 2239.5s,\testimator lgbm's best error=19.7260,\tbest estimator lgbm's best error=19.7260\n",
      "[flaml.automl.logger: 12-21 10:30:45] {2258} INFO - iteration 17, current learner lgbm\n",
      "[flaml.automl.logger: 12-21 10:34:09] {2442} INFO -  at 2443.7s,\testimator lgbm's best error=17.9605,\tbest estimator lgbm's best error=17.9605\n",
      "[flaml.automl.logger: 12-21 10:34:09] {2258} INFO - iteration 18, current learner lgbm\n",
      "[flaml.automl.logger: 12-21 10:37:49] {2442} INFO -  at 2663.6s,\testimator lgbm's best error=17.9605,\tbest estimator lgbm's best error=17.9605\n",
      "[flaml.automl.logger: 12-21 10:37:49] {2258} INFO - iteration 19, current learner lgbm\n",
      "[flaml.automl.logger: 12-21 10:39:42] {2442} INFO -  at 2776.4s,\testimator lgbm's best error=17.9605,\tbest estimator lgbm's best error=17.9605\n",
      "[flaml.automl.logger: 12-21 10:39:42] {2258} INFO - iteration 20, current learner lgbm\n",
      "[flaml.automl.logger: 12-21 10:43:46] {2442} INFO -  at 3020.6s,\testimator lgbm's best error=17.9605,\tbest estimator lgbm's best error=17.9605\n",
      "[flaml.automl.logger: 12-21 10:44:31] {2685} INFO - retrain lgbm for 44.4s\n",
      "[flaml.automl.logger: 12-21 10:44:31] {2688} INFO - retrained model: LGBMRegressor(colsample_bytree=0.6146637675541853,\n",
      "              learning_rate=0.35819596846132973, max_bin=1023,\n",
      "              min_child_samples=2, n_estimators=88, n_jobs=-1, num_leaves=493,\n",
      "              reg_alpha=0.003934614746573571, reg_lambda=0.0018340820859991315,\n",
      "              verbose=-1)\n",
      "[flaml.automl.logger: 12-21 10:44:31] {1985} INFO - fit succeeded\n",
      "[flaml.automl.logger: 12-21 10:44:31] {1986} INFO - Time taken to find the best model: 2443.6833086013794\n"
     ]
    }
   ],
   "source": [
    "from flaml import AutoML\n",
    "\n",
    "automl = AutoML()\n",
    "\n",
    "# Define settings for AutoML\n",
    "settings = {\n",
    "    \"time_budget\": 3000,                # Total time budget in seconds\n",
    "    \"estimator_list\": [\"lgbm\"],         # Use LightGBM as the estimator\n",
    "    \"metric\": \"mae\",                    # Metric for evaluation (e.g., mean absolute error)\n",
    "    \"log_file_name\": \"flaml.log\",       # Log file for training progress\n",
    "    \"eval_method\": \"cv\",                # Cross-validation for evaluation\n",
    "    \"task\": \"regression\"                # Task type\n",
    "}\n",
    "\n",
    "# Fit the AutoML model\n",
    "automl.fit(\n",
    "    X_train=X_train_encoded,            # Training features\n",
    "    y_train=y_train,                    # Target variable\n",
    "    sample_weight=weights,              # Sample weights for the training examples\n",
    "    **settings                          # Pass other settings\n",
    ")\n"
   ]
  },
  {
   "cell_type": "code",
   "execution_count": 16,
   "metadata": {
    "colab": {
     "base_uri": "https://localhost:8080/"
    },
    "id": "RyukdkjUr4V2",
    "outputId": "65c6e0d9-c809-4160-b212-b601bebe4c90"
   },
   "outputs": [
    {
     "name": "stdout",
     "output_type": "stream",
     "text": [
      "[ 33.37958631 131.56362804 103.46715119 ... 140.08081046  27.0979378\n",
      "  25.02188468]\n"
     ]
    }
   ],
   "source": [
    "# Prediction using the best model from AutoML\n",
    "predictions = automl.predict(X_test_encoded)\n",
    "\n",
    "# Display or process predictions\n",
    "print(predictions)\n"
   ]
  },
  {
   "cell_type": "code",
   "execution_count": 17,
   "metadata": {
    "id": "WkEI3Qy52-Ci"
   },
   "outputs": [
    {
     "name": "stdout",
     "output_type": "stream",
     "text": [
      "                    id   sales_hat\n",
      "0      1226_2024-06-03   33.379586\n",
      "1      1226_2024-06-11  131.563628\n",
      "2      1226_2024-06-13  103.467151\n",
      "3      1226_2024-06-15  131.929315\n",
      "4      1226_2024-06-09   33.043600\n",
      "...                ...         ...\n",
      "47016  4572_2024-06-03   66.549185\n",
      "47017  3735_2024-06-04  118.208347\n",
      "47018  3735_2024-06-03  140.080810\n",
      "47019  2129_2024-06-03   27.097938\n",
      "47020  3030_2024-06-03   25.021885\n",
      "\n",
      "[47021 rows x 2 columns]\n"
     ]
    }
   ],
   "source": [
    "# Creating a DataFrame for predictions\n",
    "prediction_df = pd.DataFrame(predictions, columns=[\"sales\"])\n",
    "\n",
    "# Assigning predictions to the submission DataFrame\n",
    "submission[\"sales_hat\"] = prediction_df[\"sales\"]\n",
    "\n",
    "# Displaying the submission DataFrame\n",
    "print(submission)\n"
   ]
  },
  {
   "cell_type": "code",
   "execution_count": 18,
   "metadata": {
    "id": "h4WZ6UCm5kYJ"
   },
   "outputs": [
    {
     "ename": "SyntaxError",
     "evalue": "(unicode error) 'unicodeescape' codec can't decode bytes in position 2-3: truncated \\UXXXXXXXX escape (211326420.py, line 1)",
     "output_type": "error",
     "traceback": [
      "\u001b[1;36m  Input \u001b[1;32mIn [18]\u001b[1;36m\u001b[0m\n\u001b[1;33m    submission.to_csv(\"C:\\Users\\User\\OneDrive\\Desktop\\Mohammad\\Challenges\\Rohlik Forecasting\",index=False) # replace this with your own path <_>\u001b[0m\n\u001b[1;37m                                                                                             ^\u001b[0m\n\u001b[1;31mSyntaxError\u001b[0m\u001b[1;31m:\u001b[0m (unicode error) 'unicodeescape' codec can't decode bytes in position 2-3: truncated \\UXXXXXXXX escape\n"
     ]
    }
   ],
   "source": [
    "submission.to_csv(\"C:\\Users\\User\\OneDrive\\Desktop\\Mohammad\\Challenges\\Rohlik Forecasting\",index=False) # replace this with your own path <_>"
   ]
  },
  {
   "cell_type": "code",
   "execution_count": null,
   "metadata": {
    "id": "LIhfj0vD6cTC"
   },
   "outputs": [],
   "source": [
    "\n",
    "dir(XGBRFRegressor)"
   ]
  },
  {
   "cell_type": "code",
   "execution_count": null,
   "metadata": {
    "id": "0bB1I0Ci8GmQ"
   },
   "outputs": [],
   "source": [
    "!pip install xgboost"
   ]
  }
 ],
 "metadata": {
  "accelerator": "GPU",
  "colab": {
   "gpuType": "T4",
   "provenance": []
  },
  "kernelspec": {
   "display_name": "Python 3 (ipykernel)",
   "language": "python",
   "name": "python3"
  },
  "language_info": {
   "codemirror_mode": {
    "name": "ipython",
    "version": 3
   },
   "file_extension": ".py",
   "mimetype": "text/x-python",
   "name": "python",
   "nbconvert_exporter": "python",
   "pygments_lexer": "ipython3",
   "version": "3.9.12"
  }
 },
 "nbformat": 4,
 "nbformat_minor": 1
}
